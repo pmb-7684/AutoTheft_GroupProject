{
 "cells": [
  {
   "cell_type": "code",
   "execution_count": null,
   "metadata": {},
   "outputs": [],
   "source": [
    "import pandas as pd\n",
    "import numpy as np\n",
    "import matplotlib.pyplot as plt\n",
    "from matplotlib import style\n",
    "import seaborn as sns\n",
    "style.use(\"ggplot\")\n",
    "\n",
    "from sklearn.cluster import MiniBatchKMeans, KMeans\n",
    "from sklearn.feature_extraction.text import TfidfVectorizer\n",
    "from sklearn.model_selection import train_test_split, KFold,cross_val_score, GridSearchCV, KFold\n",
    "from sklearn.tree import DecisionTreeRegressor\n",
    "from sklearn.linear_model import SGDRegressor, LinearRegression, Ridge, Lasso\n",
    "\n",
    "\n",
    "from sklearn.ensemble import RandomForestRegressor, GradientBoostingRegressor\n",
    "from sklearn.preprocessing import StandardScaler\n",
    "from sklearn.metrics import mean_absolute_error, mean_squared_error\n",
    "from sklearn.metrics import mean_squared_error, r2_score\n",
    "\n",
    "from sklearn.naive_bayes import GaussianNB"
   ]
  },
  {
   "cell_type": "markdown",
   "metadata": {},
   "source": [
    "Most Features"
   ]
  },
  {
   "cell_type": "code",
   "execution_count": null,
   "metadata": {},
   "outputs": [],
   "source": [
    "#crime = pd.read_csv('crimedata2.csv', encoding = \"ISO-8859-1\")\n",
    "crime = pd.read_csv('/content/sample_data/crimedata2.csv', encoding = \"ISO-8859-1\")\n",
    "crime.info()"
   ]
  },
  {
   "cell_type": "code",
   "execution_count": null,
   "metadata": {},
   "outputs": [],
   "source": [
    "crime_pb = crime[['autoTheft','numbUrban', 'pctUrban', 'medIncome', 'pctWWage','pctWFarmSelf', 'pctWInvInc', 'pctWSocSec', 'pctWPubAsst', 'pctWRetire',\n",
    "                  'medFamInc','perCapInc','NumUnderPov', 'PctPopUnderPov','PctNotHSGrad', 'PctBSorMore', 'PctUnemployed', 'PctEmploy', 'PctEmplManu',\n",
    "                  'PctEmplProfServ', 'PctOccupManu', 'PctOccupMgmtProf','PctLargHouseOccup', 'PersPerOccupHous', 'PersPerOwnOccHous', 'PersPerRentOccHous',\n",
    "                 'PctPersOwnOccup', 'PctPersDenseHous', 'MedNumBR', 'HousVacant', 'PctHousOccup', 'PctHousOwnOcc', 'PctVacantBoarded','PctVacMore6Mos',\n",
    "                 'MedRent', 'MedOwnCostPctInc', 'MedOwnCostPctIncNoMtg' ,'PctBornSameState', 'PctSameHouse85', 'PctSameCity85', 'PctSameState85']]\n",
    "#Convert '?' to NaN\n",
    "crime_pb = crime_pb.replace('?', float('nan'))\n",
    "\n",
    "#Get the correlations\n",
    "crime_pb = crime_pb.apply(pd.to_numeric, errors='coerce')\n",
    "\n",
    "\n",
    "#Drop rows with NaN values\n",
    "crime_pb = crime_pb.dropna()\n",
    "corr = crime_pb.corr()\n",
    "\n",
    "plt.figure(figsize=(20, 12))\n",
    "sns.heatmap(corr,annot=True, fmt=\".2f\", cmap='viridis')\n",
    "plt.title('Correlation Heatmap', fontsize=20)\n",
    "plt.show()"
   ]
  },
  {
   "cell_type": "markdown",
   "metadata": {},
   "source": [
    "Selected Features"
   ]
  },
  {
   "cell_type": "code",
   "execution_count": null,
   "metadata": {},
   "outputs": [],
   "source": [
    "autoCrime_pb= crime[['pctUrban', 'medIncome', 'PctPopUnderPov', 'PctLess9thGrade', 'PctNotHSGrad',\n",
    "                     'PctBSorMore','PctEmploy', 'PctUnemployed',  'PctVacMore6Mos','numbUrban',\n",
    "                     'PctVacantBoarded','agePct12t29','agePct16t24','agePct65up','RentMedian',\n",
    "                     'racepctblack', 'racePctWhite', 'racePctAsian', 'racePctHisp', 'PctUsePubTrans','autoTheft','HousVacant']]"
   ]
  },
  {
   "cell_type": "code",
   "execution_count": null,
   "metadata": {},
   "outputs": [],
   "source": [
    "autoCrime_pb =  autoCrime_pb.apply(pd.to_numeric, errors='coerce')\n",
    "# Convert '?' to NaN\n",
    "autoCrime_pb = autoCrime_pb.replace('?', float('nan'))\n",
    "# Drop rows with NaN values\n",
    "autoCrime_pb = autoCrime_pb.dropna()\n",
    "autoCrime_pb"
   ]
  },
  {
   "cell_type": "code",
   "execution_count": null,
   "metadata": {},
   "outputs": [],
   "source": [
    "# Get the correlations\n",
    "autoCrime_pb =  autoCrime_pb.apply(pd.to_numeric, errors='coerce')\n",
    "# Convert '?' to NaN\n",
    "autoCrime_pB = autoCrime_pb.replace('?', float('nan'))\n",
    "# Drop rows with NaN values\n",
    "autoCrime_pb = autoCrime_pb.dropna()\n",
    "corr = autoCrime_pb.corr()\n",
    "\n",
    "plt.figure(figsize=(20, 12))\n",
    "sns.heatmap(corr,annot=True, fmt=\".2f\", cmap='viridis')\n",
    "plt.title('Correlation Heatmap', fontsize=20)\n",
    "plt.show()"
   ]
  },
  {
   "cell_type": "code",
   "execution_count": null,
   "metadata": {},
   "outputs": [],
   "source": [
    "autoCrime_pb1= crime[['pctUrban', 'medIncome', 'PctPopUnderPov', 'PctLess9thGrade', 'PctNotHSGrad', 'PctBSorMore','PctEmploy', 'PctUnemployed', 'HousVacant','PctVacantBoarded', 'PctVacMore6Mos',\n",
    "                     'RentMedian', 'PctUsePubTrans','autoTheft']]\n",
    "autoCrime_pb1 =  autoCrime_pb1.apply(pd.to_numeric, errors='coerce')\n",
    "# Convert '?' to NaN\n",
    "autoCrime_p1b = autoCrime_pb1.replace('?', float('nan'))\n",
    "# Drop rows with NaN values\n",
    "autoCrime_pb1 = autoCrime_pb1.dropna()"
   ]
  },
  {
   "cell_type": "code",
   "execution_count": null,
   "metadata": {},
   "outputs": [],
   "source": [
    "# Get the correlations\n",
    "corr = autoCrime_pb1.corr()\n",
    "\n",
    "plt.figure(figsize=(20, 12))\n",
    "sns.heatmap(corr,annot=True, fmt=\".2f\", cmap='viridis')\n",
    "plt.title('Correlation Heatmap', fontsize=20)\n",
    "plt.show()"
   ]
  },
  {
   "cell_type": "code",
   "execution_count": null,
   "metadata": {},
   "outputs": [],
   "source": [
    "autoCrime_pb.describe()"
   ]
  },
  {
   "cell_type": "code",
   "execution_count": null,
   "metadata": {},
   "outputs": [],
   "source": [
    "autoCrime_pb1.describe()"
   ]
  },
  {
   "cell_type": "code",
   "execution_count": null,
   "metadata": {},
   "outputs": [],
   "source": [
    "B1 = autoCrime_pb1[[\"medIncome\", \"HousVacant\",\"autoTheft\"]]\n",
    "B1.boxplot()"
   ]
  },
  {
   "cell_type": "code",
   "execution_count": null,
   "metadata": {},
   "outputs": [],
   "source": [
    "B2 = autoCrime_pb1[['pctUrban', 'PctPopUnderPov', 'PctNotHSGrad', 'PctBSorMore','PctEmploy', 'PctUnemployed', 'PctVacMore6Mos',\n",
    "                    'PctUsePubTrans']]\n",
    "B2.boxplot()"
   ]
  },
  {
   "cell_type": "code",
   "execution_count": null,
   "metadata": {},
   "outputs": [],
   "source": [
    "B3 = autoCrime_pb1[[ 'RentMedian']]\n",
    "B3.boxplot()"
   ]
  },
  {
   "cell_type": "code",
   "execution_count": null,
   "metadata": {},
   "outputs": [],
   "source": [
    "# Initialize the StandardScaler\n",
    "scaler = StandardScaler()\n",
    "autoCrime_pb1_standard = pd.DataFrame(StandardScaler().fit_transform(autoCrime_pb1),columns = autoCrime_pb1.columns)"
   ]
  },
  {
   "cell_type": "code",
   "execution_count": null,
   "metadata": {},
   "outputs": [],
   "source": [
    "autoCrime_pb1_standard.boxplot()\n",
    "plt.xticks(rotation=45, ha='right', fontsize=10)\n",
    "plt.show()"
   ]
  },
  {
   "cell_type": "code",
   "execution_count": null,
   "metadata": {},
   "outputs": [],
   "source": [
    "X = autoCrime_pb[['pctUrban', 'medIncome', 'PctPopUnderPov','PctVacantBoarded','numbUrban',\n",
    "       'PctNotHSGrad', 'PctBSorMore', 'PctEmploy', 'PctUnemployed', 'HousVacant',\n",
    "        'PctVacMore6Mos', 'agePct12t29','agePct16t24', 'agePct65up', 'RentMedian',\n",
    "        'racepctblack','racePctWhite', 'racePctAsian', 'racePctHisp', 'PctUsePubTrans']]\n",
    "Y= autoCrime_pb['autoTheft']"
   ]
  },
  {
   "cell_type": "code",
   "execution_count": null,
   "metadata": {},
   "outputs": [],
   "source": [
    "# Data partition. Random state can be any number, just has to be consistent throughout the code\n",
    "X_train, X_test, Y_train, Y_test = train_test_split(X,Y, test_size = 0.2, random_state =21) # Random state can be any number, just has to be consistent throughout the code"
   ]
  },
  {
   "cell_type": "code",
   "execution_count": null,
   "metadata": {},
   "outputs": [],
   "source": [
    "models = {\n",
    "    'Linear Regression': LinearRegression(),\n",
    "    'Decision Tree': DecisionTreeRegressor(random_state=21),\n",
    "    'Random Forest': RandomForestRegressor(random_state=21),\n",
    "    'Naive Bayes': GaussianNB(),\n",
    "    'Gradient Boosting': GradientBoostingRegressor(random_state=21)\n",
    "}\n"
   ]
  },
  {
   "cell_type": "code",
   "execution_count": null,
   "metadata": {},
   "outputs": [],
   "source": [
    "# k = 5\n",
    "kf = KFold(n_splits=5, shuffle=True, random_state=21)\n",
    "\n",
    "# https://scikit-learn.org/stable/modules/model_evaluation.html"
   ]
  },
  {
   "cell_type": "code",
   "execution_count": null,
   "metadata": {},
   "outputs": [],
   "source": [
    "results = {}\n",
    "\n",
    "for name, model in models.items():\n",
    "    mse_scores = -cross_val_score(model, X, Y, cv=kf, scoring = 'neg_mean_squared_error')\n",
    "    rmse_scores = -cross_val_score(model, X, Y, cv=kf, scoring = 'neg_root_mean_squared_error')\n",
    "    r2_scores = cross_val_score(model, X, Y, cv=kf, scoring='r2')\n",
    "\n",
    "    results[name] = {\n",
    "        'MSE': mse_scores,\n",
    "        'MSE Mean': np.mean(mse_scores),\n",
    "        'MSE Std': np.std(mse_scores),\n",
    "        'RMSE': rmse_scores,\n",
    "        'RMSE Mean': np.mean(rmse_scores),\n",
    "        'RMSE Std': np.std(rmse_scores),\n",
    "        'R2': r2_scores,\n",
    "        'R2 Mean': np.mean(r2_scores),\n",
    "        'R2 Std': np.std(r2_scores)\n",
    "    }\n",
    "\n",
    "# Print Results\n",
    "for name, metrics in results.items():\n",
    "    print(f\"\\n{name}\")\n",
    "    print(f\"Mean MSE: {metrics['MSE Mean']:.2f}, Std MSE: {metrics['MSE Std']:.2f}\")\n",
    "    print(f\"Mean RMSE: {metrics['RMSE Mean']:.2f}, Std RMSE: {metrics['RMSE Std']:.2f}\")\n",
    "    print(f\"Mean R2: {metrics['R2 Mean']:.2f}, Std R2: {metrics['R2 Std']:.2f}\")"
   ]
  },
  {
   "cell_type": "code",
   "execution_count": null,
   "metadata": {},
   "outputs": [],
   "source": [
    "#k = 10\n",
    "kf = KFold(n_splits=10, shuffle=True, random_state=21)    # 10 folds\n",
    "results1 = {}\n",
    "\n",
    "for name, model in models.items():\n",
    "    mse_scores = -cross_val_score(model, X, Y, cv=kf, scoring = 'neg_mean_squared_error')\n",
    "    rmse_scores = -cross_val_score(model, X, Y, cv=kf, scoring = 'neg_root_mean_squared_error')\n",
    "    r2_scores = cross_val_score(model, X, Y, cv=kf, scoring='r2')\n",
    "\n",
    "    results1[name] = {\n",
    "        'MSE': mse_scores,\n",
    "        'MSE Mean': np.mean(mse_scores),\n",
    "        'MSE Std': np.std(mse_scores),\n",
    "        'RMSE': rmse_scores,\n",
    "        'RMSE Mean': np.mean(rmse_scores),\n",
    "        'RMSE Std': np.std(rmse_scores),\n",
    "        'R2': r2_scores,\n",
    "        'R2 Mean': np.mean(r2_scores),\n",
    "        'R2 Std': np.std(r2_scores)\n",
    "    }\n",
    "\n",
    "# Print Results\n",
    "for name, metrics in results1.items():\n",
    "    print(f\"\\n{name}\")\n",
    "    print(f\"Mean MSE: {metrics['MSE Mean']:.2f}, Std MSE: {metrics['MSE Std']:.2f}\")\n",
    "    print(f\"Mean RMSE: {metrics['RMSE Mean']:.2f}, Std RMSE: {metrics['RMSE Std']:.2f}\")\n",
    "    print(f\"Mean R2: {metrics['R2 Mean']:.2f}, Std R2: {metrics['R2 Std']:.2f}\")"
   ]
  },
  {
   "cell_type": "code",
   "execution_count": null,
   "metadata": {},
   "outputs": [],
   "source": [
    "# LINEAR REGRESSION\n",
    "\n",
    "k = 5\n",
    "crossvalidation = KFold(n_splits=k, shuffle=True, random_state=21)\n",
    "\n",
    "# Fit regression model\n",
    "reg = LinearRegression()\n",
    "\n",
    "# Lists to store metrics for each fold\n",
    "r2_scores = []\n",
    "mse_scores = []\n",
    "rmse_scores = []\n",
    "\n",
    "\n",
    "\n",
    "# Perform k-fold cross-validation\n",
    "for train_index, test_index in crossvalidation.split(X):\n",
    "    X_train, X_test = X.iloc[train_index], X.iloc[test_index]\n",
    "    Y_train, Y_test = Y.iloc[train_index], Y.iloc[test_index]\n",
    "\n",
    "    # Fit the model\n",
    "    reg.fit(X_train, Y_train)\n",
    "\n",
    "    # Predict on the test set\n",
    "    y_pred = reg.predict(X_test)\n",
    "\n",
    "    # Calculate metrics\n",
    "    r2 = r2_score(Y_test, y_pred)\n",
    "    mse = mean_squared_error(Y_test, y_pred)\n",
    "    rmse = np.sqrt(mse)\n",
    "\n",
    "    # Append metrics to lists\n",
    "    r2_scores.append(r2)\n",
    "    mse_scores.append(mse)\n",
    "    rmse_scores.append(rmse)\n",
    "\n",
    "    # Print metrics for the current fold\n",
    "    print(f\"Fold results: R-squared = {r2:.4f}, MSE = {mse:.4f}, RMSE = {rmse:.4f}\")\n",
    "\n",
    "# Print average metrics across all folds\n",
    "print(f\"\\nAverage results: R-squared = {np.mean(r2_scores):.4f}, MSE = {np.mean(mse_scores):.4f}, RMSE = {np.mean(rmse_scores):.4f}\")\n"
   ]
  },
  {
   "cell_type": "code",
   "execution_count": null,
   "metadata": {},
   "outputs": [],
   "source": [
    "# DECISON TREE\n",
    "\n",
    "from sklearn.tree import DecisionTreeRegressor\n",
    "from sklearn.metrics import mean_squared_error, r2_score\n",
    "from sklearn.model_selection import KFold\n",
    "import numpy as np\n",
    "import pandas as pd\n",
    "\n",
    "# Initialize the model\n",
    "dt = DecisionTreeRegressor(random_state=21)\n",
    "\n",
    "# Lists to store metrics for each fold\n",
    "r2_scores = []\n",
    "mse_scores = []\n",
    "rmse_scores = []\n",
    "\n",
    "# Initialize k-fold cross-validation\n",
    "crossvalidation = KFold(n_splits=k, shuffle=True, random_state=21)\n",
    "\n",
    "# Perform k-fold cross-validation\n",
    "for train_index, test_index in crossvalidation.split(X):\n",
    "    X_train, X_test = X.iloc[train_index], X.iloc[test_index]\n",
    "    Y_train, Y_test = Y.iloc[train_index], Y.iloc[test_index]\n",
    "\n",
    "    # Fit the model\n",
    "    dt.fit(X_train, Y_train)\n",
    "\n",
    "    # Predict on the test set\n",
    "    y_pred = dt.predict(X_test)\n",
    "\n",
    "    # Calculate metrics\n",
    "    r2 = r2_score(Y_test, y_pred)\n",
    "    mse = mean_squared_error(Y_test, y_pred)\n",
    "    rmse = np.sqrt(mse)\n",
    "\n",
    "    # Append metrics to lists\n",
    "    r2_scores.append(r2)\n",
    "    mse_scores.append(mse)\n",
    "    rmse_scores.append(rmse)\n",
    "\n",
    "    # Print metrics for the current fold\n",
    "    print(f\"Fold results: R-squared = {r2:.4f}, MSE = {mse:.4f}, RMSE = {rmse:.4f}\")\n",
    "\n",
    "# Print average metrics across all folds\n",
    "print(f\"\\nAverage results: R-squared = {np.mean(r2_scores):.4f}, MSE = {np.mean(mse_scores):.4f}, RMSE = {np.mean(rmse_scores):.4f}\")"
   ]
  },
  {
   "cell_type": "code",
   "execution_count": null,
   "metadata": {},
   "outputs": [],
   "source": [
    "# RANDOM FOREST\n",
    "\n",
    "import pandas as pd\n",
    "from sklearn.model_selection import train_test_split, GridSearchCV\n",
    "from sklearn.ensemble import RandomForestRegressor\n",
    "from sklearn.preprocessing import StandardScaler\n",
    "from sklearn.metrics import mean_absolute_error, mean_squared_error\n",
    "import numpy as np\n",
    "\n",
    "\n",
    "rf = RandomForestRegressor(random_state=21)\n",
    "\n",
    "# Lists to store metrics for each fold\n",
    "r2_scores = []\n",
    "mse_scores = []\n",
    "rmse_scores = []\n",
    "\n",
    "# Initialize k-fold cross-validation\n",
    "crossvalidation = KFold(n_splits=k, shuffle=True, random_state=21)\n",
    "\n",
    "# Perform k-fold cross-validation\n",
    "for train_index, test_index in crossvalidation.split(X):\n",
    "    X_train, X_test = X.iloc[train_index], X.iloc[test_index]\n",
    "    Y_train, Y_test = Y.iloc[train_index], Y.iloc[test_index]\n",
    "\n",
    "    # Fit the model\n",
    "    rf.fit(X_train, Y_train)\n",
    "\n",
    "    # Predict on the test set\n",
    "    y_pred = rf.predict(X_test)\n",
    "\n",
    "    # Calculate metrics\n",
    "    r2 = r2_score(Y_test, y_pred)\n",
    "    mse = mean_squared_error(Y_test, y_pred)\n",
    "    rmse = np.sqrt(mse)\n",
    "\n",
    "    # Append metrics to lists\n",
    "    r2_scores.append(r2)\n",
    "    mse_scores.append(mse)\n",
    "    rmse_scores.append(rmse)\n",
    "\n",
    "    # Print metrics for the current fold\n",
    "    print(f\"Fold results: R-squared = {r2:.4f}, MSE = {mse:.4f}, RMSE = {rmse:.4f}\")\n",
    "\n",
    "# Print average metrics across all folds\n",
    "print(f\"\\nAverage results: R-squared = {np.mean(r2_scores):.4f}, MSE = {np.mean(mse_scores):.4f}, RMSE = {np.mean(rmse_scores):.4f}\")"
   ]
  },
  {
   "cell_type": "code",
   "execution_count": null,
   "metadata": {},
   "outputs": [],
   "source": [
    "#GRADIENT BOOSTING\n",
    "\n",
    "from sklearn.ensemble import GradientBoostingClassifier\n",
    "\n",
    "gbc = GradientBoostingRegressor(random_state=21)\n",
    "\n",
    "# Lists to store metrics for each fold\n",
    "r2_scores = []\n",
    "mse_scores = []\n",
    "rmse_scores = []\n",
    "\n",
    "# Initialize k-fold cross-validation\n",
    "#crossvalidation = KFold(n_splits=k, shuffle=True)\n",
    "\n",
    "# Perform k-fold cross-validation\n",
    "for train_index, test_index in crossvalidation.split(X):\n",
    "    X_train, X_test = X.iloc[train_index], X.iloc[test_index]\n",
    "    Y_train, Y_test = Y.iloc[train_index], Y.iloc[test_index]\n",
    "\n",
    "    # Fit the model\n",
    "    gbc.fit(X_train, Y_train)\n",
    "\n",
    "    # Predict on the test set\n",
    "    y_pred = gbc.predict(X_test)\n",
    "\n",
    "    # Calculate metrics\n",
    "    r2 = r2_score(Y_test, y_pred)\n",
    "    mse = mean_squared_error(Y_test, y_pred)\n",
    "    rmse = np.sqrt(mse)\n",
    "\n",
    "    # Append metrics to lists\n",
    "    r2_scores.append(r2)\n",
    "    mse_scores.append(mse)\n",
    "    rmse_scores.append(rmse)\n",
    "\n",
    "    # Print metrics for the current fold\n",
    "    print(f\"Fold results: R-squared = {r2:.4f}, MSE = {mse:.4f}, RMSE = {rmse:.4f}\")\n",
    "\n",
    "# Print average metrics across all folds\n",
    "print(f\"\\nAverage results: R-squared = {np.mean(r2_scores):.4f}, MSE = {np.mean(mse_scores):.4f}, RMSE = {np.mean(rmse_scores):.4f}\")"
   ]
  },
  {
   "cell_type": "code",
   "execution_count": null,
   "metadata": {},
   "outputs": [],
   "source": [
    "#NAIVE BAYES\n",
    "\n",
    "from sklearn.naive_bayes import GaussianNB\n",
    "nb = GaussianNB()\n",
    "\n",
    "# Lists to store metrics for each fold\n",
    "r2_scores = []\n",
    "mse_scores = []\n",
    "rmse_scores = []\n",
    "\n",
    "# Initialize k-fold cross-validation\n",
    "crossvalidation = KFold(n_splits=k, shuffle=True, random_state=21)\n",
    "\n",
    "# Perform k-fold cross-validation\n",
    "for train_index, test_index in crossvalidation.split(X):\n",
    "    X_train, X_test = X.iloc[train_index], X.iloc[test_index]\n",
    "    Y_train, Y_test = Y.iloc[train_index], Y.iloc[test_index]\n",
    "\n",
    "    # Fit the model\n",
    "    nb.fit(X_train, Y_train)\n",
    "\n",
    "    # Predict on the test set\n",
    "    y_pred = nb.predict(X_test)\n",
    "\n",
    "    # Calculate metrics\n",
    "    r2 = r2_score(Y_test, y_pred)\n",
    "    mse = mean_squared_error(Y_test, y_pred)\n",
    "    rmse = np.sqrt(mse)\n",
    "\n",
    "    # Append metrics to lists\n",
    "    r2_scores.append(r2)\n",
    "    mse_scores.append(mse)\n",
    "    rmse_scores.append(rmse)\n",
    "\n",
    "    # Print metrics for the current fold\n",
    "    print(f\"Fold results: R-squared = {r2:.4f}, MSE = {mse:.4f}, RMSE = {rmse:.4f}\")\n",
    "\n",
    "# Print average metrics across all folds\n",
    "print(f\"\\nAverage results: R-squared = {np.mean(r2_scores):.4f}, MSE = {np.mean(mse_scores):.4f}, RMSE = {np.mean(rmse_scores):.4f}\")\n",
    "\n"
   ]
  },
  {
   "cell_type": "code",
   "execution_count": null,
   "metadata": {},
   "outputs": [],
   "source": [
    "#model for k =10\n",
    "\n",
    "k = 10\n",
    "crossvalidation = KFold(n_splits=k, random_state=21, shuffle=True)"
   ]
  }
 ],
 "metadata": {
  "language_info": {
   "name": "python"
  }
 },
 "nbformat": 4,
 "nbformat_minor": 2
}
